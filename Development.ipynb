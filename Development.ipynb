{
  "nbformat": 4,
  "nbformat_minor": 0,
  "metadata": {
    "colab": {
      "provenance": [],
      "include_colab_link": true
    },
    "kernelspec": {
      "name": "python3",
      "display_name": "Python 3"
    },
    "language_info": {
      "name": "python"
    }
  },
  "cells": [
    {
      "cell_type": "markdown",
      "metadata": {
        "id": "view-in-github",
        "colab_type": "text"
      },
      "source": [
        "<a href=\"https://colab.research.google.com/github/KennyOwen/Enron/blob/main/Development.ipynb\" target=\"_parent\"><img src=\"https://colab.research.google.com/assets/colab-badge.svg\" alt=\"Open In Colab\"/></a>"
      ]
    },
    {
      "cell_type": "code",
      "execution_count": null,
      "metadata": {
        "id": "FM-LdQZiNCjE",
        "colab": {
          "base_uri": "https://localhost:8080/"
        },
        "outputId": "9385fe10-733a-4e14-8aaa-5d1a2fd5de00"
      },
      "outputs": [
        {
          "output_type": "stream",
          "name": "stdout",
          "text": [
            "--2023-06-04 11:34:00--  https://curtin-my.sharepoint.com/:u:/g/personal/211934g_curtin_edu_au/EaYagsqa2r1Bi5wtHbswGFwBH2kd2uTnz6rlka7GI36GUQ?download=1\n",
            "Resolving curtin-my.sharepoint.com (curtin-my.sharepoint.com)... 13.107.136.8, 13.107.138.8, 2620:1ec:8f8::8, ...\n",
            "Connecting to curtin-my.sharepoint.com (curtin-my.sharepoint.com)|13.107.136.8|:443... connected.\n",
            "HTTP request sent, awaiting response... 302 Found\n",
            "Location: /personal/211934g_curtin_edu_au/Documents/Units/ISYS2001/ISYS2001-Assignment-2-Data/enron_sqlite3.db?ga=1 [following]\n",
            "--2023-06-04 11:34:00--  https://curtin-my.sharepoint.com/personal/211934g_curtin_edu_au/Documents/Units/ISYS2001/ISYS2001-Assignment-2-Data/enron_sqlite3.db?ga=1\n",
            "Reusing existing connection to curtin-my.sharepoint.com:443.\n",
            "HTTP request sent, awaiting response... 200 OK\n",
            "Length: 853819392 (814M) [application/octet-stream]\n",
            "Saving to: ‘enron.db’\n",
            "\n",
            "enron.db            100%[===================>] 814.27M  53.3MB/s    in 20s     \n",
            "\n",
            "2023-06-04 11:34:20 (41.5 MB/s) - ‘enron.db’ saved [853819392/853819392]\n",
            "\n"
          ]
        }
      ],
      "source": [
        "#run wget command for downloding enrn email data\n",
        "!wget -O enron.db https://curtin-my.sharepoint.com/:u:/g/personal/211934g_curtin_edu_au/EaYagsqa2r1Bi5wtHbswGFwBH2kd2uTnz6rlka7GI36GUQ?download=1"
      ]
    },
    {
      "cell_type": "code",
      "source": [
        "#import library sqlite3\n",
        "import sqlite3"
      ],
      "metadata": {
        "id": "cGDlh0S1NHZG"
      },
      "execution_count": null,
      "outputs": []
    },
    {
      "cell_type": "code",
      "source": [
        "#establish connection with database\n",
        "conn = sqlite3.connect('enron.db')"
      ],
      "metadata": {
        "id": "eCcfBklCNKk4"
      },
      "execution_count": null,
      "outputs": []
    },
    {
      "cell_type": "code",
      "source": [
        "#create cursor object\n",
        "cursor = conn.cursor()"
      ],
      "metadata": {
        "id": "e5rj2HzcNMzn"
      },
      "execution_count": null,
      "outputs": []
    },
    {
      "cell_type": "code",
      "source": [
        "#check schema of database\n",
        "cursor.execute(\"SELECT name FROM sqlite_master WHERE type='table'\")\n",
        "tables = cursor.fetchall()\n",
        "cursor = conn.cursor()\n",
        "\n",
        "for table in tables:\n",
        "    print(table[0])"
      ],
      "metadata": {
        "id": "V6qs1PekNO2m",
        "colab": {
          "base_uri": "https://localhost:8080/"
        },
        "outputId": "327ab23e-65c3-47ab-9a96-9ef60d74a9ff"
      },
      "execution_count": null,
      "outputs": [
        {
          "output_type": "stream",
          "name": "stdout",
          "text": [
            "employeelist\n",
            "message\n",
            "recipientinfo\n",
            "referenceinfo\n"
          ]
        }
      ]
    },
    {
      "cell_type": "code",
      "source": [
        "# verifying table\n",
        "table_name = 'employeelist'\n",
        "cursor.execute(\"SELECT name FROM sqlite_master WHERE type='table' AND name=?\", (table_name,))\n",
        "result = cursor.fetchone()\n",
        "\n",
        "if result:\n",
        "    print(f\"The table '{table_name}' exists in the database.\")\n",
        "else:\n",
        "    print(f\"The table '{table_name}' does not exist in the database.\")"
      ],
      "metadata": {
        "colab": {
          "base_uri": "https://localhost:8080/"
        },
        "id": "g4xTGQWKQUD5",
        "outputId": "7d0dd2db-cf28-4f8a-f130-42061d1d8abe"
      },
      "execution_count": null,
      "outputs": [
        {
          "output_type": "stream",
          "name": "stdout",
          "text": [
            "The table 'employeelist' exists in the database.\n"
          ]
        }
      ]
    },
    {
      "cell_type": "code",
      "source": [
        "#check scheme of table - employeelist\n",
        "table_name = 'employeelist'\n",
        "\n",
        "# Retrieve column information for the table\n",
        "cursor.execute(f\"PRAGMA table_info({table_name})\")\n",
        "columns = cursor.fetchall()\n",
        "\n",
        "# Print the column information\n",
        "for column in columns:\n",
        "    column_name = column[1]\n",
        "    data_type = column[2]\n",
        "    nullable = 'NULL' if column[3] else 'NOT NULL'\n",
        "    primary_key = 'PRIMARY KEY' if column[5] else ''\n",
        "    print(f\"{column_name}: {data_type} {nullable} {primary_key}\")"
      ],
      "metadata": {
        "id": "05G60OdkNSf6",
        "colab": {
          "base_uri": "https://localhost:8080/"
        },
        "outputId": "ecf3cf14-5630-4f12-89f0-217279ea135a"
      },
      "execution_count": null,
      "outputs": [
        {
          "output_type": "stream",
          "name": "stdout",
          "text": [
            "eid: INTEGER NULL PRIMARY KEY\n",
            "firstName: VARCHAR(31) NULL \n",
            "lastName: VARCHAR(31) NULL \n",
            "Email_id: VARCHAR(31) NULL \n",
            "Email2: VARCHAR(31) NOT NULL \n",
            "Email3: VARCHAR(31) NOT NULL \n",
            "EMail4: VARCHAR(31) NOT NULL \n",
            "folder: VARCHAR(31) NULL \n",
            "status: VARCHAR(50) NOT NULL \n"
          ]
        }
      ]
    },
    {
      "cell_type": "code",
      "source": [
        "#check schema of table - message\n",
        "table_name = 'message'\n",
        "\n",
        "# Retrieve column information for the table\n",
        "cursor.execute(f\"PRAGMA table_info({table_name})\")\n",
        "columns = cursor.fetchall()\n",
        "\n",
        "# Print the column information\n",
        "for column in columns:\n",
        "    column_name = column[1]\n",
        "    data_type = column[2]\n",
        "    nullable = 'NULL' if column[3] else 'NOT NULL'\n",
        "    primary_key = 'PRIMARY KEY' if column[5] else ''\n",
        "    print(f\"{column_name}: {data_type} {nullable} {primary_key}\")"
      ],
      "metadata": {
        "id": "WBfJH0RsNWZk",
        "colab": {
          "base_uri": "https://localhost:8080/"
        },
        "outputId": "1867d8a6-c56d-4cd0-b5c2-e25ab8df8582"
      },
      "execution_count": null,
      "outputs": [
        {
          "output_type": "stream",
          "name": "stdout",
          "text": [
            "mid: INTEGER NULL PRIMARY KEY\n",
            "sender: VARCHAR(127) NULL \n",
            "date: DATETIME NOT NULL \n",
            "message_id: VARCHAR(127) NOT NULL \n",
            "subject: TEXT NOT NULL \n",
            "body: TEXT NOT NULL \n",
            "folder: VARCHAR(127) NULL \n"
          ]
        }
      ]
    },
    {
      "cell_type": "code",
      "source": [
        "#check scheme of table - referenceinfo\n",
        "table_name = 'referenceinfo'\n",
        "\n",
        "# Retrieve column information for the table\n",
        "cursor.execute(f\"PRAGMA table_info({table_name})\")\n",
        "columns = cursor.fetchall()\n",
        "\n",
        "# Print the column information\n",
        "for column in columns:\n",
        "    column_name = column[1]\n",
        "    data_type = column[2]\n",
        "    nullable = 'NULL' if column[3] else 'NOT NULL'\n",
        "    primary_key = 'PRIMARY KEY' if column[5] else ''\n",
        "    print(f\"{column_name}: {data_type} {nullable} {primary_key}\")"
      ],
      "metadata": {
        "id": "0-hvlm2hNYzV",
        "colab": {
          "base_uri": "https://localhost:8080/"
        },
        "outputId": "2a278111-3cb1-4303-e420-6ff2f8b5f8db"
      },
      "execution_count": null,
      "outputs": [
        {
          "output_type": "stream",
          "name": "stdout",
          "text": [
            "rfid: INTEGER NULL PRIMARY KEY\n",
            "mid: INTEGER NULL \n",
            "reference: TEXT NOT NULL \n"
          ]
        }
      ]
    },
    {
      "cell_type": "code",
      "source": [
        "#check schema of table - recipientinfo\n",
        "table_name = 'recipientinfo'\n",
        "\n",
        "# Retrieve column information for the table\n",
        "cursor.execute(f\"PRAGMA table_info({table_name})\")\n",
        "columns = cursor.fetchall()\n",
        "\n",
        "# Print the column information\n",
        "for column in columns:\n",
        "    column_name = column[1]\n",
        "    data_type = column[2]\n",
        "    nullable = 'NULL' if column[3] else 'NOT NULL'\n",
        "    primary_key = 'PRIMARY KEY' if column[5] else ''\n",
        "    print(f\"{column_name}: {data_type} {nullable} {primary_key}\")"
      ],
      "metadata": {
        "id": "b9aNKA-RNbMR",
        "colab": {
          "base_uri": "https://localhost:8080/"
        },
        "outputId": "48be12cd-16fa-4f29-8404-af7494cd53c2"
      },
      "execution_count": null,
      "outputs": [
        {
          "output_type": "stream",
          "name": "stdout",
          "text": [
            "rid: INTEGER NULL PRIMARY KEY\n",
            "mid: INTEGER NULL \n",
            "rtype: TEXT NOT NULL \n",
            "rvalue: VARCHAR(127) NOT NULL \n",
            "dater: DATETIME NOT NULL \n"
          ]
        }
      ]
    },
    {
      "cell_type": "code",
      "source": [
        "#import library - pandas\n",
        "import pandas as pd"
      ],
      "metadata": {
        "id": "Je_gaanLNgpq"
      },
      "execution_count": null,
      "outputs": []
    },
    {
      "cell_type": "code",
      "source": [
        "pip install pandas"
      ],
      "metadata": {
        "colab": {
          "base_uri": "https://localhost:8080/"
        },
        "id": "B7VgPZRWSR_O",
        "outputId": "9d182f17-6d7d-4e5e-bd2c-43ad728fcd08"
      },
      "execution_count": null,
      "outputs": [
        {
          "output_type": "stream",
          "name": "stdout",
          "text": [
            "Looking in indexes: https://pypi.org/simple, https://us-python.pkg.dev/colab-wheels/public/simple/\n",
            "Requirement already satisfied: pandas in /usr/local/lib/python3.10/dist-packages (1.5.3)\n",
            "Requirement already satisfied: python-dateutil>=2.8.1 in /usr/local/lib/python3.10/dist-packages (from pandas) (2.8.2)\n",
            "Requirement already satisfied: pytz>=2020.1 in /usr/local/lib/python3.10/dist-packages (from pandas) (2022.7.1)\n",
            "Requirement already satisfied: numpy>=1.21.0 in /usr/local/lib/python3.10/dist-packages (from pandas) (1.22.4)\n",
            "Requirement already satisfied: six>=1.5 in /usr/local/lib/python3.10/dist-packages (from python-dateutil>=2.8.1->pandas) (1.16.0)\n"
          ]
        }
      ]
    },
    {
      "cell_type": "code",
      "source": [
        "#check date format by writing an sql query to fetch one record from message table"
      ],
      "metadata": {
        "id": "hjyowUMGNgyv"
      },
      "execution_count": null,
      "outputs": []
    },
    {
      "cell_type": "code",
      "source": [
        "#check whether there are null values in the record"
      ],
      "metadata": {
        "id": "_EAIOKq0Ng1A"
      },
      "execution_count": null,
      "outputs": []
    },
    {
      "cell_type": "code",
      "source": [
        "#write sql query to count number of emails per day using strftime and COUNT() \n",
        "#convert data in dataframe\n",
        "#display the dataframe\n",
        "#import library matplotlib and seaborn\n",
        "#plot graph\n",
        "#perform analysis \n",
        "\n"
      ],
      "metadata": {
        "id": "_Wpp2RxKNg3M"
      },
      "execution_count": null,
      "outputs": []
    },
    {
      "cell_type": "code",
      "source": [
        "#write sql query to count number of emails per week using strftime and COUNT() \n",
        "#convert data in dataframe\n",
        "#display the dataframe\n",
        "#plot graph\n",
        "#perform analysis "
      ],
      "metadata": {
        "id": "-i9_lx3lNg5y"
      },
      "execution_count": null,
      "outputs": []
    },
    {
      "cell_type": "code",
      "source": [
        "#write sql query to count number of emails per month using strftime and COUNT() \n",
        "#convert data in dataframe\n",
        "#display the dataframe\n",
        "#plot graph using subplots() and lineplot()\n",
        "#perform analysis "
      ],
      "metadata": {
        "id": "YhkcPYWdNg8G"
      },
      "execution_count": null,
      "outputs": []
    },
    {
      "cell_type": "code",
      "source": [
        "#write sql query to count top sender using count()\n",
        "#convert data in dataframe\n",
        "#display the dataframe\n",
        "#plot graph using barplot() and show()\n",
        "#perform analysis "
      ],
      "metadata": {
        "id": "kHxvkzwDNg-f"
      },
      "execution_count": null,
      "outputs": []
    },
    {
      "cell_type": "code",
      "source": [
        "#write sql query to count top recipient using count()\n",
        "#convert data in dataframe\n",
        "#display the dataframe\n",
        "#plot graph using barplot() and show()\n",
        "#perform analysis "
      ],
      "metadata": {
        "id": "-zho5x61NhBS"
      },
      "execution_count": null,
      "outputs": []
    },
    {
      "cell_type": "code",
      "source": [
        "#write sql query to categorize by rtype using count\n",
        "#convert data in dataframe\n",
        "#display the dataframe\n",
        "#plot graph using pie() and show()\n",
        "#perform analysis "
      ],
      "metadata": {
        "id": "9N602CkMNhD0"
      },
      "execution_count": null,
      "outputs": []
    },
    {
      "cell_type": "code",
      "source": [],
      "metadata": {
        "id": "LGxH1UF_NhF_"
      },
      "execution_count": null,
      "outputs": []
    },
    {
      "cell_type": "code",
      "source": [],
      "metadata": {
        "id": "nkW_hiE4NhJ5"
      },
      "execution_count": null,
      "outputs": []
    },
    {
      "cell_type": "code",
      "source": [],
      "metadata": {
        "id": "NFXxQgT2NhNU"
      },
      "execution_count": null,
      "outputs": []
    }
  ]
}